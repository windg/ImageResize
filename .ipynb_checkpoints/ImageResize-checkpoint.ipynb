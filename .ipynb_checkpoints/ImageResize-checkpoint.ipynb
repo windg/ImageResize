{
 "cells": [
  {
   "cell_type": "code",
   "execution_count": 2,
   "metadata": {},
   "outputs": [],
   "source": [
    "import tensorflow as tf\n",
    "import numpy as np\n",
    "def conv2d(x, W, b, strides=1):\n",
    "    # Conv2D wrapper, with bias and relu activation\n",
    "    x = tf.nn.conv2d(x, W, strides=[1, strides, strides, 1], padding='SAME')\n",
    "    x = tf.nn.bias_add(x, b)\n",
    "    return tf.nn.relu(x)"
   ]
  },
  {
   "cell_type": "code",
   "execution_count": 14,
   "metadata": {},
   "outputs": [
    {
     "name": "stdout",
     "output_type": "stream",
     "text": [
      "conv:  (1, 32, 32, 20)\n",
      "mxpl:  (1, 32, 32, 20)\n",
      "flt:  (1, 20480)\n"
     ]
    }
   ],
   "source": [
    "inputImageSize = 32\n",
    "outputImageSize = 64\n",
    "nChannels = 3\n",
    "batchSize = 1\n",
    "filterSize = 3\n",
    "NumStrides = 1\n",
    "strides = [1,NumStrides,NumStrides,1]\n",
    "\n",
    "weights = {\n",
    "    #\n",
    "    'CW':tf.Variable(tf.truncated_normal(shape=[filterSize,filterSize, nChannels, 20], stddev=0.1)),\n",
    "    'DW':tf.Variable(tf.truncated_normal(shape=[inputImageSize*inputImageSize*20,outputImageSize*outputImageSize*nChannels],stddev=0.1))\n",
    "}\n",
    "biases = {\n",
    "    'Cb': tf.Variable(tf.truncated_normal(shape=[20], stddev=0.1)),\n",
    "    'Db': tf.Variable(tf.truncated_normal(shape=[outputImageSize*outputImageSize*nChannels], stddev=0.1))\n",
    "}\n",
    "\n",
    "inputImage = tf.placeholder(tf.float32,shape=(batchSize, inputImageSize,inputImageSize,nChannels))\n",
    "outputImage = tf.placeholder(tf.float32,shape=(batchSize, outputImageSize,outputImageSize, nChannels))\n",
    "\n",
    "conv = conv2d(x=inputImage, W=weights['CW'], b=biases['Cb'], strides=NumStrides)\n",
    "mxpl = tf.nn.max_pool(conv, ksize=(1,2,2,1), strides=strides,padding='SAME')\n",
    "\n",
    "print('conv: ',conv.shape)\n",
    "print('mxpl: ', mxpl.shape)\n",
    "flt = tf.reshape(mxpl,shape=[-1,20*inputImageSize*inputImageSize])\n",
    "print('flt: ', flt.shape)\n",
    "out = tf.layers.dense(inputs=flt, units=outputImageSize*outputImageSize*nChannels, activation=tf.nn.relu)\n",
    "out = tf.reshape(out, shape=[-1,outputImageSize, outputImageSize,nChannels])\n"
   ]
  }
 ],
 "metadata": {
  "kernelspec": {
   "display_name": "RL",
   "language": "python",
   "name": "rl"
  },
  "language_info": {
   "codemirror_mode": {
    "name": "ipython",
    "version": 3
   },
   "file_extension": ".py",
   "mimetype": "text/x-python",
   "name": "python",
   "nbconvert_exporter": "python",
   "pygments_lexer": "ipython3",
   "version": "3.6.6"
  }
 },
 "nbformat": 4,
 "nbformat_minor": 2
}
